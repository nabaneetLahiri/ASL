{
 "cells": [
  {
   "cell_type": "code",
   "execution_count": null,
   "metadata": {
    "colab": {
     "base_uri": "https://localhost:8080/",
     "height": 235
    },
    "colab_type": "code",
    "id": "lP9K--7EzwEA",
    "outputId": "5ac4b74a-2cea-4562-bf12-d5242a22e5ce"
   },
   "outputs": [
    {
     "name": "stdout",
     "output_type": "stream",
     "text": [
      "Collecting keras==2.1.6\n",
      "\u001b[?25l  Downloading https://files.pythonhosted.org/packages/54/e8/eaff7a09349ae9bd40d3ebaf028b49f5e2392c771f294910f75bb608b241/Keras-2.1.6-py2.py3-none-any.whl (339kB)\n",
      "\u001b[K     |████████████████████████████████| 348kB 8.7MB/s \n",
      "\u001b[?25hRequirement already satisfied: six>=1.9.0 in /usr/local/lib/python3.6/dist-packages (from keras==2.1.6) (1.12.0)\n",
      "Requirement already satisfied: numpy>=1.9.1 in /usr/local/lib/python3.6/dist-packages (from keras==2.1.6) (1.16.3)\n",
      "Requirement already satisfied: h5py in /usr/local/lib/python3.6/dist-packages (from keras==2.1.6) (2.8.0)\n",
      "Requirement already satisfied: pyyaml in /usr/local/lib/python3.6/dist-packages (from keras==2.1.6) (3.13)\n",
      "Requirement already satisfied: scipy>=0.14 in /usr/local/lib/python3.6/dist-packages (from keras==2.1.6) (1.3.0)\n",
      "Installing collected packages: keras\n",
      "  Found existing installation: Keras 2.2.4\n",
      "    Uninstalling Keras-2.2.4:\n",
      "      Successfully uninstalled Keras-2.2.4\n",
      "Successfully installed keras-2.1.6\n"
     ]
    }
   ],
   "source": [
    "!pip install keras==2.1.6"
   ]
  },
  {
   "cell_type": "code",
   "execution_count": null,
   "metadata": {
    "colab": {
     "base_uri": "https://localhost:8080/",
     "height": 121
    },
    "colab_type": "code",
    "id": "CMaFWsGZMQyR",
    "outputId": "f9ed784f-9ccf-4099-d98a-ea64a42be26c"
   },
   "outputs": [
    {
     "name": "stdout",
     "output_type": "stream",
     "text": [
      "Go to this URL in a browser: https://accounts.google.com/o/oauth2/auth?client_id=947318989803-6bn6qk8qdgf4n4g3pfee6491hc0brc4i.apps.googleusercontent.com&redirect_uri=urn%3Aietf%3Awg%3Aoauth%3A2.0%3Aoob&scope=email%20https%3A%2F%2Fwww.googleapis.com%2Fauth%2Fdocs.test%20https%3A%2F%2Fwww.googleapis.com%2Fauth%2Fdrive%20https%3A%2F%2Fwww.googleapis.com%2Fauth%2Fdrive.photos.readonly%20https%3A%2F%2Fwww.googleapis.com%2Fauth%2Fpeopleapi.readonly&response_type=code\n",
      "\n",
      "Enter your authorization code:\n",
      "··········\n",
      "Mounted at /content/gdrive\n"
     ]
    }
   ],
   "source": [
    "from google.colab import drive\n",
    "drive.mount('/content/gdrive')"
   ]
  },
  {
   "cell_type": "code",
   "execution_count": null,
   "metadata": {
    "colab": {
     "base_uri": "https://localhost:8080/",
     "height": 34
    },
    "colab_type": "code",
    "id": "zDSxi3tlLuS9",
    "outputId": "b9028e6d-029f-4fa7-8b39-b8c37d62f418"
   },
   "outputs": [
    {
     "name": "stderr",
     "output_type": "stream",
     "text": [
      "Using TensorFlow backend.\n"
     ]
    }
   ],
   "source": [
    "from keras.preprocessing.image import img_to_array, load_img\n",
    "import os\n",
    "from keras import models,layers,optimizers\n",
    "from keras.applications import VGG16,Xception\n",
    "from sklearn.model_selection import train_test_split\n",
    "import numpy as np\n",
    "import tensorflow as tf\n",
    "from tensorflow.python.keras import utils\n",
    "from keras.utils import np_utils\n",
    "import cv2\n",
    "import itertools\n",
    "from keras.models import load_model\n",
    "\n",
    "input_size = 224"
   ]
  },
  {
   "cell_type": "markdown",
   "metadata": {
    "colab_type": "text",
    "id": "eL1lHllqAQwv"
   },
   "source": [
    "Run this for creating model for Stationary Signs [A-I,K-Y]"
   ]
  },
  {
   "cell_type": "code",
   "execution_count": null,
   "metadata": {
    "colab": {},
    "colab_type": "code",
    "id": "Zi36zCoJ_g6s"
   },
   "outputs": [],
   "source": [
    "path = \"/content/gdrive/My Drive/StationarySigns\"\n",
    "noOfClasses = 25\n",
    "classes = {\n",
    "    \n",
    "    'A': 0,\n",
    "    'B': 1,\n",
    "    'C': 2,\n",
    "    'D': 3,\n",
    "    'E': 4,\n",
    "    'F': 5,\n",
    "    'G': 6,\n",
    "    'H': 7,\n",
    "    'I': 8,\n",
    "    'K': 9,\n",
    "    'L': 10,\n",
    "    'M': 11,\n",
    "    'N': 12,\n",
    "    'O': 13,\n",
    "    'P': 14,\n",
    "    'Q': 15,\n",
    "    'R': 16,\n",
    "    'S': 17,\n",
    "    'T': 18,\n",
    "    'U': 19,\n",
    "    'V': 20,\n",
    "    'W': 21,\n",
    "    'X': 22,\n",
    "    'Y': 23,\n",
    "    '^': 24\n",
    "    \n",
    "}"
   ]
  },
  {
   "cell_type": "markdown",
   "metadata": {
    "colab_type": "text",
    "id": "eiZWeSxaAirG"
   },
   "source": [
    "Run this for Motion Signs [J,Z]"
   ]
  },
  {
   "cell_type": "code",
   "execution_count": null,
   "metadata": {
    "colab": {},
    "colab_type": "code",
    "id": "nNLDnhXY_hpB"
   },
   "outputs": [],
   "source": [
    "path = \"/content/gdrive/My Drive/MotionSigns\"\n",
    "noOfClasses = 3\n",
    "classes = {\n",
    "    'J': 0,\n",
    "    'Z': 1,\n",
    "    '^': 2\n",
    "    \n",
    "}"
   ]
  },
  {
   "cell_type": "code",
   "execution_count": null,
   "metadata": {
    "colab": {
     "base_uri": "https://localhost:8080/",
     "height": 470
    },
    "colab_type": "code",
    "id": "G7w4IRr9A7dg",
    "outputId": "d0449656-4064-4f35-b508-b30003dcc3b5"
   },
   "outputs": [
    {
     "name": "stdout",
     "output_type": "stream",
     "text": [
      "/content/gdrive/My Drive/dataset_final_3\n",
      "/content/gdrive/My Drive/dataset_final_3/Y\n",
      "/content/gdrive/My Drive/dataset_final_3/V\n",
      "/content/gdrive/My Drive/dataset_final_3/R\n",
      "/content/gdrive/My Drive/dataset_final_3/U\n",
      "/content/gdrive/My Drive/dataset_final_3/X\n",
      "/content/gdrive/My Drive/dataset_final_3/L\n",
      "/content/gdrive/My Drive/dataset_final_3/K\n",
      "/content/gdrive/My Drive/dataset_final_3/O\n",
      "/content/gdrive/My Drive/dataset_final_3/H\n",
      "/content/gdrive/My Drive/dataset_final_3/Q\n",
      "/content/gdrive/My Drive/dataset_final_3/P\n",
      "/content/gdrive/My Drive/dataset_final_3/I\n",
      "/content/gdrive/My Drive/dataset_final_3/G\n",
      "/content/gdrive/My Drive/dataset_final_3/F\n",
      "/content/gdrive/My Drive/dataset_final_3/A\n",
      "/content/gdrive/My Drive/dataset_final_3/C\n",
      "/content/gdrive/My Drive/dataset_final_3/D\n",
      "/content/gdrive/My Drive/dataset_final_3/B\n",
      "/content/gdrive/My Drive/dataset_final_3/W\n",
      "/content/gdrive/My Drive/dataset_final_3/^\n",
      "/content/gdrive/My Drive/dataset_final_3/E\n",
      "/content/gdrive/My Drive/dataset_final_3/M\n",
      "/content/gdrive/My Drive/dataset_final_3/S\n",
      "/content/gdrive/My Drive/dataset_final_3/T\n",
      "/content/gdrive/My Drive/dataset_final_3/N\n",
      "Data loaded!!!\n"
     ]
    }
   ],
   "source": [
    "def load_data():\n",
    "  X = []\n",
    "  y = []\n",
    "  for root, directories, filenames in os.walk(path):\n",
    "    print(root)\n",
    "    for filename in filenames:\n",
    "      if filename.endswith(\".jpg\"):\n",
    "        if int(filename[2:-4])<=200:\n",
    "          fullpath = os.path.join(root, filename)\n",
    "          img = load_img(fullpath)\n",
    "          img = img_to_array(img)\n",
    "          img = cv2.resize(img,(224,224))\n",
    "          X.append(img)\n",
    "          t = fullpath.rindex('/')\n",
    "          fullpath = fullpath[0:t]\n",
    "          n = fullpath.rindex('/')\n",
    "          y.append(classes[fullpath[n + 1:t]])\n",
    "  y = np.asarray(y)\n",
    "  y = y.reshape(y.shape[0], 1)\n",
    "  X = np.asarray(X).astype('float32')\n",
    "  X = X / 255.0\n",
    "  y = np_utils.to_categorical(y, noOfClasses)\n",
    "  \n",
    "  X_train, X_test, y_train, y_test = train_test_split(X, y, test_size = 0.20, random_state = 42)\n",
    "  np.save(path+\"/X_train.npy\",X_train)\n",
    "  np.save(path+\"/X_test.npy\",X_test)\n",
    "  np.save(path+\"/y_train.npy\",y_train)\n",
    "  np.save(path+\"/y_test.npy\",y_test)\n",
    "  print(\"Data loaded!!!\")\n",
    "load_data()"
   ]
  },
  {
   "cell_type": "markdown",
   "metadata": {
    "colab_type": "text",
    "id": "NKlsqS8HLXEq"
   },
   "source": [
    "Restart the terminal and execute every cell except the above one."
   ]
  },
  {
   "cell_type": "code",
   "execution_count": null,
   "metadata": {
    "colab": {
     "base_uri": "https://localhost:8080/",
     "height": 1784
    },
    "colab_type": "code",
    "id": "HQAWAOP6LUl8",
    "outputId": "25631a44-ac77-453b-d476-2a632771ee16"
   },
   "outputs": [
    {
     "name": "stdout",
     "output_type": "stream",
     "text": [
      "WARNING:tensorflow:From /usr/local/lib/python3.6/dist-packages/tensorflow/python/framework/op_def_library.py:263: colocate_with (from tensorflow.python.framework.ops) is deprecated and will be removed in a future version.\n",
      "Instructions for updating:\n",
      "Colocations handled automatically by placer.\n",
      "Downloading data from https://github.com/fchollet/deep-learning-models/releases/download/v0.1/vgg16_weights_tf_dim_ordering_tf_kernels_notop.h5\n",
      "58892288/58889256 [==============================] - 2s 0us/step\n",
      "<keras.engine.topology.InputLayer object at 0x7f5406501be0> False\n",
      "<keras.layers.convolutional.Conv2D object at 0x7f5406501eb8> False\n",
      "<keras.layers.convolutional.Conv2D object at 0x7f5406501f98> False\n",
      "<keras.layers.pooling.MaxPooling2D object at 0x7f54065080f0> False\n",
      "<keras.layers.convolutional.Conv2D object at 0x7f54064a42e8> False\n",
      "<keras.layers.convolutional.Conv2D object at 0x7f54064b5c88> False\n",
      "<keras.layers.pooling.MaxPooling2D object at 0x7f54064d7588> False\n",
      "<keras.layers.convolutional.Conv2D object at 0x7f540646b9b0> False\n",
      "<keras.layers.convolutional.Conv2D object at 0x7f5406494128> False\n",
      "<keras.layers.convolutional.Conv2D object at 0x7f5406494908> False\n",
      "<keras.layers.pooling.MaxPooling2D object at 0x7f5406431ba8> False\n",
      "<keras.layers.convolutional.Conv2D object at 0x7f54064583c8> False\n",
      "<keras.layers.convolutional.Conv2D object at 0x7f54063f2b00> False\n",
      "<keras.layers.convolutional.Conv2D object at 0x7f5406404400> False\n",
      "<keras.layers.pooling.MaxPooling2D object at 0x7f540641be48> False\n",
      "<keras.layers.convolutional.Conv2D object at 0x7f54063b1eb8> True\n",
      "<keras.layers.convolutional.Conv2D object at 0x7f54063dee48> True\n",
      "<keras.layers.convolutional.Conv2D object at 0x7f5406372080> True\n",
      "<keras.layers.pooling.MaxPooling2D object at 0x7f54063869e8> True\n",
      "Loading data.....\n",
      "WARNING:tensorflow:From /usr/local/lib/python3.6/dist-packages/keras/backend/tensorflow_backend.py:3144: calling dropout (from tensorflow.python.ops.nn_ops) with keep_prob is deprecated and will be removed in a future version.\n",
      "Instructions for updating:\n",
      "Please use `rate` instead of `keep_prob`. Rate should be set to `rate = 1 - keep_prob`.\n",
      "Model summary\n",
      "_________________________________________________________________\n",
      "Layer (type)                 Output Shape              Param #   \n",
      "=================================================================\n",
      "input_1 (InputLayer)         (None, 224, 224, 3)       0         \n",
      "_________________________________________________________________\n",
      "block1_conv1 (Conv2D)        (None, 224, 224, 64)      1792      \n",
      "_________________________________________________________________\n",
      "block1_conv2 (Conv2D)        (None, 224, 224, 64)      36928     \n",
      "_________________________________________________________________\n",
      "block1_pool (MaxPooling2D)   (None, 112, 112, 64)      0         \n",
      "_________________________________________________________________\n",
      "block2_conv1 (Conv2D)        (None, 112, 112, 128)     73856     \n",
      "_________________________________________________________________\n",
      "block2_conv2 (Conv2D)        (None, 112, 112, 128)     147584    \n",
      "_________________________________________________________________\n",
      "block2_pool (MaxPooling2D)   (None, 56, 56, 128)       0         \n",
      "_________________________________________________________________\n",
      "block3_conv1 (Conv2D)        (None, 56, 56, 256)       295168    \n",
      "_________________________________________________________________\n",
      "block3_conv2 (Conv2D)        (None, 56, 56, 256)       590080    \n",
      "_________________________________________________________________\n",
      "block3_conv3 (Conv2D)        (None, 56, 56, 256)       590080    \n",
      "_________________________________________________________________\n",
      "block3_pool (MaxPooling2D)   (None, 28, 28, 256)       0         \n",
      "_________________________________________________________________\n",
      "block4_conv1 (Conv2D)        (None, 28, 28, 512)       1180160   \n",
      "_________________________________________________________________\n",
      "block4_conv2 (Conv2D)        (None, 28, 28, 512)       2359808   \n",
      "_________________________________________________________________\n",
      "block4_conv3 (Conv2D)        (None, 28, 28, 512)       2359808   \n",
      "_________________________________________________________________\n",
      "block4_pool (MaxPooling2D)   (None, 14, 14, 512)       0         \n",
      "_________________________________________________________________\n",
      "block5_conv1 (Conv2D)        (None, 14, 14, 512)       2359808   \n",
      "_________________________________________________________________\n",
      "block5_conv2 (Conv2D)        (None, 14, 14, 512)       2359808   \n",
      "_________________________________________________________________\n",
      "block5_conv3 (Conv2D)        (None, 14, 14, 512)       2359808   \n",
      "_________________________________________________________________\n",
      "block5_pool (MaxPooling2D)   (None, 7, 7, 512)         0         \n",
      "_________________________________________________________________\n",
      "flatten_1 (Flatten)          (None, 25088)             0         \n",
      "_________________________________________________________________\n",
      "dense_1 (Dense)              (None, 1024)              25691136  \n",
      "_________________________________________________________________\n",
      "dropout_1 (Dropout)          (None, 1024)              0         \n",
      "_________________________________________________________________\n",
      "dense_2 (Dense)              (None, 25)                25625     \n",
      "=================================================================\n",
      "Total params: 40,431,449\n",
      "Trainable params: 32,796,185\n",
      "Non-trainable params: 7,635,264\n",
      "_________________________________________________________________\n",
      "Training........\n",
      "WARNING:tensorflow:From /usr/local/lib/python3.6/dist-packages/tensorflow/python/ops/math_ops.py:3066: to_int32 (from tensorflow.python.ops.math_ops) is deprecated and will be removed in a future version.\n",
      "Instructions for updating:\n",
      "Use tf.cast instead.\n",
      "Train on 4000 samples, validate on 1000 samples\n",
      "Epoch 1/8\n",
      "4000/4000 [==============================] - 44s 11ms/step - loss: 0.7914 - acc: 0.7755 - val_loss: 0.0319 - val_acc: 0.9920\n",
      "Epoch 2/8\n",
      "4000/4000 [==============================] - 40s 10ms/step - loss: 0.0413 - acc: 0.9885 - val_loss: 0.0077 - val_acc: 0.9990\n",
      "Epoch 3/8\n",
      "4000/4000 [==============================] - 40s 10ms/step - loss: 0.0085 - acc: 0.9985 - val_loss: 0.0053 - val_acc: 0.9980\n",
      "Epoch 4/8\n",
      "4000/4000 [==============================] - 39s 10ms/step - loss: 0.0080 - acc: 0.9982 - val_loss: 0.0043 - val_acc: 0.9990\n",
      "Epoch 5/8\n",
      "4000/4000 [==============================] - 40s 10ms/step - loss: 0.0037 - acc: 0.9997 - val_loss: 0.0040 - val_acc: 0.9990\n",
      "Epoch 6/8\n",
      "4000/4000 [==============================] - 39s 10ms/step - loss: 0.0042 - acc: 0.9992 - val_loss: 0.0032 - val_acc: 0.9990\n",
      "Epoch 7/8\n",
      "4000/4000 [==============================] - 40s 10ms/step - loss: 0.0022 - acc: 0.9997 - val_loss: 0.0031 - val_acc: 0.9990\n",
      "Epoch 8/8\n",
      "4000/4000 [==============================] - 40s 10ms/step - loss: 0.0030 - acc: 0.9997 - val_loss: 0.0024 - val_acc: 0.9990\n",
      "Training complete!!!!\n"
     ]
    }
   ],
   "source": [
    "vgg_conv = VGG16(weights = 'imagenet', include_top = False, input_shape = (input_size, input_size, 3))\n",
    "\n",
    "for layer in vgg_conv.layers[:-4]:\n",
    "  layer.trainable = False\n",
    "\n",
    "for layer in vgg_conv.layers:\n",
    "  print(layer, layer.trainable)\n",
    "  \n",
    "def createModel():\n",
    "  model = models.Sequential()\n",
    "  for layer in vgg_conv.layers:\n",
    "    model.add(layer)\n",
    "  model.add(layers.Flatten())\n",
    "  model.add(layers.Dense(1024, activation = 'relu'))\n",
    "  model.add(layers.Dropout(0.5))\n",
    "  model.add(layers.Dense(noOfClasses, activation = 'softmax'))\n",
    "  return model\n",
    "\n",
    "def train():\n",
    "  print(\"Loading data.....\")\n",
    "  X_train=np.load(path+\"/X_train.npy\")\n",
    "  X_test=np.load(path+\"/X_test.npy\")\n",
    "  y_train=np.load(path+\"/y_train.npy\")\n",
    "  y_test=np.load(path+\"/y_test.npy\")\n",
    "  model = createModel()\n",
    "  print(\"Model summary\")\n",
    "  model.summary()\n",
    "  batch_size = 10\n",
    "  epochs = 8\n",
    "  model.compile(optimizer = 'sgd', loss = 'categorical_crossentropy', metrics = ['accuracy'])\n",
    "  print(\"Training........\")\n",
    "  model.fit(X_train, y_train, batch_size =batch_size, epochs = epochs, verbose = 1, validation_data = (X_test, y_test))\n",
    "  print(\"Training complete!!!!\")\n",
    "  model.save(path+\"/keras.FINAL_MODEL5\")\n",
    "train()"
   ]
  }
 ],
 "metadata": {
  "accelerator": "GPU",
  "colab": {
   "collapsed_sections": [],
   "name": "train.ipynb",
   "provenance": [],
   "version": "0.3.2"
  },
  "kernelspec": {
   "display_name": "Python 3",
   "language": "python",
   "name": "python3"
  },
  "language_info": {
   "codemirror_mode": {
    "name": "ipython",
    "version": 3
   },
   "file_extension": ".py",
   "mimetype": "text/x-python",
   "name": "python",
   "nbconvert_exporter": "python",
   "pygments_lexer": "ipython3",
   "version": "3.7.0"
  }
 },
 "nbformat": 4,
 "nbformat_minor": 2
}
